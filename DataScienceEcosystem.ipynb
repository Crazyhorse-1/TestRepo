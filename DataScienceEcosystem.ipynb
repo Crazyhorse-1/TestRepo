{
 "cells": [
  {
   "cell_type": "markdown",
   "id": "4507b093-698b-4726-ae21-9a6fb53dc3f9",
   "metadata": {},
   "source": [
    "# Final Assignment Instructions: Create and Share Your Jupyter Notebook\n",
    "\n"
   ]
  },
  {
   "cell_type": "markdown",
   "id": "488f3982-d6c7-4101-8759-59b5018eb2fb",
   "metadata": {},
   "source": [
    "## Exercise 1: Create a Jupyter Notebook\n",
    "- Create a new Jupyter notebook called DataScienceEcosystem.ipynb\n"
   ]
  },
  {
   "cell_type": "markdown",
   "id": "857e1c7e-9af7-4bd0-a09a-4ffb1ce8a06a",
   "metadata": {},
   "source": [
    "---"
   ]
  },
  {
   "cell_type": "markdown",
   "id": "98456e05-9e6d-4431-b483-908129090ca3",
   "metadata": {},
   "source": [
    "## Exercise 2: Create markdown cell with title of the notebook\n",
    "\n",
    "- Create a markdown cell with the title Data Science Tools and Ecosystem using H1 style heading.\n",
    "- Take a screenshot of the markdown cell and name it as 2-title.png\n",
    "\n",
    "# Data Science Tools and Ecosystem using\n",
    "\n"
   ]
  },
  {
   "cell_type": "raw",
   "id": "c5dedb46-3461-4668-be94-626c5d13f109",
   "metadata": {},
   "source": [
    "<img src=\"2-title.png\" alt=\"C:\\Users\\Adam\\Documents\\School\\Data Science Professional Certificate\\2 Tools For Data Science\\\" />"
   ]
  },
  {
   "cell_type": "markdown",
   "id": "f1b5fd92-ee0f-4752-8577-d11fd0604297",
   "metadata": {},
   "source": [
    "---"
   ]
  },
  {
   "cell_type": "markdown",
   "id": "1818333e-49aa-4db6-98f7-1e4e59da14b9",
   "metadata": {},
   "source": [
    "## Exercise 3 - Create a markdown cell for an introduction\n",
    "\n",
    "- Write an introductory sentence about the notebook such as the follows:\n",
    "- In this notebook, Data Science Tools and Ecosystem are summarized.\n",
    "- Take a screenshot of the markdown cell and name it as 3-intro.png"
   ]
  },
  {
   "cell_type": "markdown",
   "id": "50fc81db-b7fe-4448-bdce-9f4c1586dd33",
   "metadata": {},
   "source": [
    "**Comment:** Jupyter Notebook is an open-source, interactive web application that allows users to create and share documents containing live code, equations, visualizations, and narrative text. It supports multiple programming languages, including Python, R, and Julia, making it a versatile tool for data analysis, scientific computing, machine learning, and education."
   ]
  },
  {
   "cell_type": "markdown",
   "id": "bad40459-8edc-4068-a80d-fbe56d8a3728",
   "metadata": {},
   "source": [
    "**Objectives**\n",
    "- Describe the components of a Data Scientist's toolkit and list various tool categories.\n",
    "- List examples of open-source tools used in data science.\n",
    "- Describe the relevant features of open-source tools.\n",
    "- List examples of commercial and cloud-based data science tools\n",
    "\n"
   ]
  },
  {
   "cell_type": "markdown",
   "id": "89bbf88d-f076-41b6-bee3-41c74aa24f1e",
   "metadata": {},
   "source": [
    "---"
   ]
  },
  {
   "cell_type": "code",
   "execution_count": null,
   "id": "9df2f0b0-8842-4e90-b58f-034f148ef466",
   "metadata": {},
   "outputs": [],
   "source": []
  },
  {
   "cell_type": "markdown",
   "id": "bde2db37-9599-4903-98ba-ad7904962f93",
   "metadata": {},
   "source": [
    "## Exercise 4 - Create a markdown cell to list data science languages\n",
    "\n",
    "- Start the cell with an overview line such as:\n",
    "- Some of the popular languages that Data Scientists use are:\n",
    "- Then create an ordered list (i.e. numbered) listing 3 (or more) commonly used languages for data science.\n",
    "- Take a screenshot of the markdown cell and name it as 4-dslanguages.png"
   ]
  },
  {
   "cell_type": "markdown",
   "id": "a1e7a013-e99e-4659-be35-b31ca828fe2d",
   "metadata": {},
   "source": [
    "Some of the popular languages that Data Scientists use are:\n",
    "1. Python\n",
    "2. R\n",
    "3. SQL"
   ]
  },
  {
   "cell_type": "markdown",
   "id": "847fbb75-4f7b-4edf-8e79-7dcde47664cd",
   "metadata": {},
   "source": [
    "---"
   ]
  },
  {
   "cell_type": "markdown",
   "id": "c2e653e1-e9e9-4498-a965-d4d50e4b421c",
   "metadata": {},
   "source": [
    "## Exercise 5 - Create a markdown cell to list data science libraries\n",
    "\n",
    "- Add an overview line to the cell like:\n",
    "- Some of the commonly used libraries used by Data Scientists include:\n",
    "- Below this line add an ordered list listing 3 (or more) commonly used libraries in data science.\n",
    "- Take a screenshot of the markdown cell and name it as 5-dslibraries.png"
   ]
  },
  {
   "cell_type": "markdown",
   "id": "b453f768-8be3-4309-a6c8-9e8d1fbc5a88",
   "metadata": {},
   "source": [
    "Some of the commonly used libraries used by Data Scientists include:\n",
    "1. Matplotlib\n",
    "2. NumPy\n",
    "3. Pandas"
   ]
  },
  {
   "cell_type": "markdown",
   "id": "767eee68-5a59-4922-b5b1-e2bd8bf58366",
   "metadata": {},
   "source": [
    "---"
   ]
  },
  {
   "cell_type": "markdown",
   "id": "0a59e9e4-46f1-4c1f-bd36-1d91dd293e49",
   "metadata": {},
   "source": [
    "## Exercise 6 - Create a markdown cell with a table of Data Science tools\n",
    "\n",
    "- Create a single column table in this cell with the first row containing the header Data Science Tools. The subsequent three rows in the table should indicate three development environment open source tools used in data science.\n",
    "- Take a screenshot of the markdown cell and name it as 6-dstools.png\n",
    "- Hint: Refer to Lab: Using Markdowns in Jupyter Notebooks to create a table."
   ]
  },
  {
   "cell_type": "markdown",
   "id": "e6df7843-5660-413e-86e7-da7ce60d29ef",
   "metadata": {},
   "source": [
    "|Data Science Tools|\n",
    "|----------------|\n",
    "|Dev|\n",
    "|Test|\n",
    "|deploy code (Prod)|"
   ]
  },
  {
   "cell_type": "markdown",
   "id": "2f08d6dd-1252-4c55-9a97-9441ed5c0869",
   "metadata": {},
   "source": [
    "---"
   ]
  },
  {
   "cell_type": "markdown",
   "id": "b6f47bc8-5c34-45d3-9024-28a1717e353f",
   "metadata": {},
   "source": [
    "## Exercise 7 - Create a markdown cell introducing arithmetic expression examples\n",
    "\n",
    "- Add a line in this cell with H3 style heading with text like:\n",
    "- Below are a few examples of evaluating arithmetic expressions in Python.\n",
    "- Take a screenshot of the markdown cell and name it as 7-introarithmetic.png"
   ]
  },
  {
   "cell_type": "markdown",
   "id": "56687880-e9b0-4982-a80b-1980b481bb45",
   "metadata": {},
   "source": [
    "### Check out these kool examples of evaluating arithmetic expressions in Python."
   ]
  },
  {
   "cell_type": "markdown",
   "id": "8eaa77d1-e6cd-4fb1-8b8e-c05ddc78da58",
   "metadata": {},
   "source": [
    "---"
   ]
  },
  {
   "cell_type": "markdown",
   "id": "44d8aca1-c28b-46b1-a94e-0b9f4de31346",
   "metadata": {},
   "source": [
    "## Exercise 8 - Create a code cell to multiply and add numbers\n",
    "\n",
    "- In this code cell evaluate the expression (3*4)+5.\n",
    "- Insert a comment line before the expression to explain the operation e.g.  This a simple arithmetic expression to mutiply then add integers.\n",
    "- Then execute the cell to ensure the expression returns the expected output of 17.- \n",
    "- Take a screenshot of the code cell with output and name it as 8-multiplyandaddintegers.png"
   ]
  },
  {
   "cell_type": "markdown",
   "id": "fbb3943c-ea8f-41f0-8ead-f5c60fe8ebea",
   "metadata": {},
   "source": [
    "This a simple arithmetic expression to mutiply then add integers."
   ]
  },
  {
   "cell_type": "code",
   "execution_count": 6,
   "id": "0cf62984-2bf7-4abb-a778-6f6e344329aa",
   "metadata": {},
   "outputs": [
    {
     "data": {
      "text/plain": [
       "17"
      ]
     },
     "execution_count": 6,
     "metadata": {},
     "output_type": "execute_result"
    }
   ],
   "source": [
    "(3*4)+5"
   ]
  },
  {
   "cell_type": "markdown",
   "id": "1c40a686-253f-4bf4-a789-75a0fd3340f8",
   "metadata": {},
   "source": [
    "---"
   ]
  },
  {
   "cell_type": "markdown",
   "id": "1bab7f66-a4ac-4054-b3a2-4da6f4cc1e5b",
   "metadata": {},
   "source": [
    "## Exercise 9 - Create a code cell to convert minutes to hours\n",
    "\n",
    "- In this code cell write an expression that converts 200 minutes into hours.\n",
    "- Insert a comment line before the expression to explain the operation e.g.  This will convert 200 minutes to hours by diving by 60.\n",
    "- Run the cell to evaluate the expression.\n",
    "- Take a screenshot of the code cell with output and name it as 9-hourstominutes.png"
   ]
  },
  {
   "cell_type": "markdown",
   "id": "4664fea4-1601-4f97-a7b9-0101806ef9f9",
   "metadata": {},
   "source": [
    "The below operation convert 200 minutes to hours by diving by 60."
   ]
  },
  {
   "cell_type": "code",
   "execution_count": 7,
   "id": "728293ef-7391-4d5f-b975-394ceadc2f82",
   "metadata": {},
   "outputs": [
    {
     "data": {
      "text/plain": [
       "3.3333333333333335"
      ]
     },
     "execution_count": 7,
     "metadata": {},
     "output_type": "execute_result"
    }
   ],
   "source": [
    "200/60"
   ]
  },
  {
   "cell_type": "markdown",
   "id": "3723f979-2cef-4e01-83a3-d6d98ca6fd59",
   "metadata": {},
   "source": [
    "---"
   ]
  },
  {
   "cell_type": "markdown",
   "id": "2074cb94-2d15-4f06-bc0b-78a93047b347",
   "metadata": {},
   "source": [
    "## Exercise 10 - Insert a markdown cell to list Objectives\n",
    "\n",
    "- Below the introduction cell created in Exercise 3, insert a new markdown cell to list the objectives that this notebook covered (i.e. some of the key takeaways from the course). In this new cell start with an introductory line titled: Objectives: in bold font. Then using an unordered list (bullets) indicate 3 to 5 items covered in this notebook, such as List popular languages for Data Science.\n",
    "- Take a screenshot of the markdown cell and name it as 10-objectives.png"
   ]
  },
  {
   "cell_type": "markdown",
   "id": "a2668148-2443-40eb-93d4-6ea4fd55ed2c",
   "metadata": {},
   "source": [
    "See exercise 3 "
   ]
  },
  {
   "cell_type": "markdown",
   "id": "2fd93e04-48c9-4f10-80e4-75585dce3f6f",
   "metadata": {},
   "source": [
    "---"
   ]
  },
  {
   "cell_type": "markdown",
   "id": "0ce43b1d-3d1a-464c-9741-b14f21ce4e3a",
   "metadata": {},
   "source": [
    "## Exercise 11 - Create a markdown cell to indicate the Author's name\n",
    "\n",
    "- In this markdown cell markdown cell include the following text Author in H2 style heading. Include your name as regular text below the word Author.\n",
    "- Take a screenshot of the markdown cell and name it as 11-authordetails.png\n",
    "- Note: Save and download the notebook."
   ]
  },
  {
   "cell_type": "markdown",
   "id": "d1fa4a63-1681-4969-a93b-f3e40de74900",
   "metadata": {},
   "source": [
    "## Author:\n",
    "Adam"
   ]
  },
  {
   "cell_type": "markdown",
   "id": "842ce455-60e4-45de-bb60-b4555a7bbf56",
   "metadata": {},
   "source": [
    "---"
   ]
  },
  {
   "cell_type": "markdown",
   "id": "1ac8f489-5812-4e76-b401-924fa5e2b106",
   "metadata": {},
   "source": [
    "## Exercise 12 - Share your notebook through GitHub\n",
    "\n",
    "- Upload your notebook to a public respository on GitHub.\n",
    "- Note : Please keep the GitHub repo link of the notebook handy.\n",
    "- You will need to submit this link as a part of the assignment evaluation.\n",
    "- Hint: Refer to Lab: Working with files in Jupyter Notebooks to download the notebook from SN Labs."
   ]
  },
  {
   "cell_type": "markdown",
   "id": "ba57faf3-e029-49db-b9e7-c0744c4b79e2",
   "metadata": {},
   "source": [
    "---"
   ]
  },
  {
   "cell_type": "markdown",
   "id": "dc682c9f-1676-4d91-b50d-85de6421d8d0",
   "metadata": {},
   "source": [
    "## Exercise 13 -Take a screenshot of the first page of the notebook and save it as 1-notebook.png\n",
    "\n",
    "- Refer to Hands-on Lab: Getting Started with GitHub to upload the downloaded notebook to GitHub. \n",
    "-Congratulations on completing this project. In a subsequent item in the course you will submit a link to your notebook on GitHub and evaluate your peers."
   ]
  },
  {
   "cell_type": "markdown",
   "id": "4a7bc3ab-f5ff-4d16-82ca-a9205a4d3e1a",
   "metadata": {},
   "source": [
    "---"
   ]
  },
  {
   "cell_type": "code",
   "execution_count": null,
   "id": "1af5d4f8-2fcd-48df-b059-d97cf15f1620",
   "metadata": {},
   "outputs": [],
   "source": []
  },
  {
   "cell_type": "code",
   "execution_count": null,
   "id": "87291bd1-5bce-4735-a694-57832343a4bd",
   "metadata": {},
   "outputs": [],
   "source": []
  },
  {
   "cell_type": "code",
   "execution_count": null,
   "id": "bd41ff4e-81b8-4461-b20c-e4cc16afb01e",
   "metadata": {},
   "outputs": [],
   "source": []
  },
  {
   "cell_type": "code",
   "execution_count": null,
   "id": "af70837e-90ca-428d-aad7-4e42f56f837f",
   "metadata": {},
   "outputs": [],
   "source": []
  },
  {
   "cell_type": "code",
   "execution_count": null,
   "id": "fb7b96aa-3e1d-42a1-94b7-22184d76c1a2",
   "metadata": {},
   "outputs": [],
   "source": []
  }
 ],
 "metadata": {
  "kernelspec": {
   "display_name": "Python 3 (ipykernel)",
   "language": "python",
   "name": "python3"
  },
  "language_info": {
   "codemirror_mode": {
    "name": "ipython",
    "version": 3
   },
   "file_extension": ".py",
   "mimetype": "text/x-python",
   "name": "python",
   "nbconvert_exporter": "python",
   "pygments_lexer": "ipython3",
   "version": "3.9.13"
  }
 },
 "nbformat": 4,
 "nbformat_minor": 5
}
